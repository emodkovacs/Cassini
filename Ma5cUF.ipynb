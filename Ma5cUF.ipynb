{
 "cells": [
  {
   "cell_type": "markdown",
   "metadata": {},
   "source": [
    "## Problemlösning och Programmering (Ma5c)\n",
    "\n",
    "Från centralt innehåll ma5c:\n",
    "* Begreppen rekursion och talföljd.\n",
    "   \n",
    "* Strategier för matematisk problemlösning inklusive modellering av olika situationer, såväl med som utan digitala verktyg och programmering.\n"
   ]
  },
  {
   "cell_type": "markdown",
   "metadata": {},
   "source": [
    "# Avsnitt 1"
   ]
  },
  {
   "cell_type": "markdown",
   "metadata": {},
   "source": [
    "## Recursionsformel \n",
    "Kolla gärna boken, som är Exponent 5, på sidan 57-58.\n",
    "Talföljden defineras med rekursionformeln:\n",
    "\n",
    "\\begin{align}\n",
    "    \\begin{cases}\n",
    "        a_1=2 \\\\\n",
    "         & n=1,2,3, ...\\\\\n",
    "        a_{n+1}=2a_n+1  \\\\\n",
    "    \\end{cases}\n",
    "\\end{align}\n",
    "$a_1=2$\n",
    "\n",
    "$a_2=2a_1+1=5$\n",
    "\n",
    "$a_3=2a_2+1=2\\cdot5+1=11$\n",
    "\n",
    "$a_4=2a_3+1=2\\cdot11+1=23$"
   ]
  },
  {
   "cell_type": "markdown",
   "metadata": {},
   "source": [
    "För att räkna ut $a_5$ eller $a_n$ behöver vi arbeta med [funktion](https://www.w3schools.com/python/python_functions.asp) begrepp i python.\n"
   ]
  },
  {
   "cell_type": "markdown",
   "metadata": {},
   "source": [
    "I Python en funktion definieras med *def*-nyckelordet. Funktion ger tillbaka ett värde med *return*-nyckelordet."
   ]
  },
  {
   "cell_type": "code",
   "execution_count": 12,
   "metadata": {},
   "outputs": [
    {
     "name": "stdout",
     "output_type": "stream",
     "text": [
      "15\n"
     ]
    }
   ],
   "source": [
    "def my_function(n):\n",
    "  return 5 * n\n",
    "print(my_function(3))"
   ]
  },
  {
   "cell_type": "markdown",
   "metadata": {},
   "source": [
    "Första rekursion defineras: "
   ]
  },
  {
   "cell_type": "code",
   "execution_count": 14,
   "metadata": {},
   "outputs": [],
   "source": [
    "def my_a(n):\n",
    "    if (n==1):\n",
    "        return 2\n",
    "    else:\n",
    "        return 2*my_a(n-1)+1"
   ]
  },
  {
   "cell_type": "markdown",
   "metadata": {},
   "source": [
    "Vi kan testa med första 10 element. Du kan prova med större gränsen.\n",
    "Använd gärna kommandot *for* för att upprepa kod.\n",
    "\n",
    "[Python For Loops](https://www.w3schools.com/python/python_for_loops.asp). "
   ]
  },
  {
   "cell_type": "code",
   "execution_count": 15,
   "metadata": {},
   "outputs": [
    {
     "name": "stdout",
     "output_type": "stream",
     "text": [
      "2\n",
      "5\n",
      "11\n",
      "23\n",
      "47\n",
      "95\n",
      "191\n",
      "383\n",
      "767\n",
      "1535\n"
     ]
    }
   ],
   "source": [
    "for n in range(1,11): #Glöm inte att 11 inte tillhör intervallet\n",
    "    print(my_a(n))"
   ]
  },
  {
   "cell_type": "markdown",
   "metadata": {},
   "source": [
    "## Uppgift 1 \n",
    "En talföljd defineras med rekursionsformeln:\n",
    "    \\begin{align}\n",
    "    \\begin{cases}\n",
    "        a_1=2 \\\\\n",
    "         & n=1,2,3, ...\\\\\n",
    "        a_{n+1}=a_n^2+1  \\\\\n",
    "    \\end{cases}\n",
    "\\end{align}\n",
    "Skapa en kod som skriver ut första 10 element."
   ]
  },
  {
   "cell_type": "code",
   "execution_count": null,
   "metadata": {},
   "outputs": [],
   "source": [
    "def my_a2(n):\n",
    "    \"\"\"\n",
    "    Skapa kod här\n",
    "    \"\"\""
   ]
  },
  {
   "cell_type": "code",
   "execution_count": null,
   "metadata": {},
   "outputs": [],
   "source": [
    "# for"
   ]
  },
  {
   "cell_type": "markdown",
   "metadata": {},
   "source": [
    "## Uppgift 2\n",
    "Skapa en funktion för den talföljden $1,3,6,10,15,21,...$. Testa funktionen."
   ]
  },
  {
   "cell_type": "code",
   "execution_count": 16,
   "metadata": {},
   "outputs": [],
   "source": [
    "def my_a3(n):\n",
    "    \"\"\"\n",
    "    Skapa kod här\n",
    "    \"\"\"\n",
    "   "
   ]
  },
  {
   "cell_type": "code",
   "execution_count": 1,
   "metadata": {},
   "outputs": [],
   "source": [
    "#for "
   ]
  },
  {
   "cell_type": "markdown",
   "metadata": {},
   "source": [
    "# Avsnitt 2"
   ]
  },
  {
   "cell_type": "markdown",
   "metadata": {},
   "source": [
    "## Recursion och Fibonaccis talföljd\n",
    "\n",
    "\n",
    "I denna lektion kommer vi nämna ofta Pythons kraftfulla kapacitet när det gäller rekursion. Det kan vara mycket användbart i vissa situationer. För detta ändamål kommer vi ihåg fibonaccis talföld. Det förekommer ofta i naturen, där antalet kronblad i en blomma är delar av fibonnacis talföljd.\n",
    "Kolla gärna boken, som är Exponent 5, på sidan 46-47 och 179-181.\n",
    "\n",
    "De första två elementen i sekvensen är 0 och 1. Därifrån är det tredje elementet i sekvensen summan av de tidigare två elementen. I detta fall skulle det tredje elementet vara 1, det fjärde elementet vara 2 och så vidare.\n",
    "\n",
    "$0,1,1,2,3,5,8,13,21,34,55...$\n",
    "\n",
    "Din uppgift är att designa en funktion betecknad <i> Fibonacci </i> som använder rekursion för att bestämma det n:te fibonnaci-talet. \n",
    "\n",
    "Matematiskt kan det n:te fibonacci-talet $ F_n $ uttryckas som:\n",
    "\n",
    "\\begin{align}\n",
    "F_n &= F_{n-1} + F_{n-2}, \\quad F_1 = 0, F_2 = 1 \\quad n = 1,2,...,N\n",
    "\\end{align}\n",
    "\n",
    "Observera också nedan <i> lru_cache </i> -metoden från <i> functools </i> biblioteket. Denna metod är ett exempel på en dekoratör. Dekoratörer är valbara pytonobjekt som används för att ändra en funktion eller en klass. I det här fallet lagrar metoden <i> lru_cache </i> tidigare värden på fibonnaci-numren i cache så att de inte behöver beräknas senare. Argumentet maxstorlek anger antalet element som cachen ska lagra. För detta ändamål kommer detta tillägg dramatiskt att minska tiden av beräkningarna. Du behöver inte den här metoden för att koden ska fungera, det var bara en illustration för den intresserade läsaren."
   ]
  },
  {
   "cell_type": "code",
   "execution_count": null,
   "metadata": {},
   "outputs": [],
   "source": [
    "import functools\n",
    "\n",
    "@functools.lru_cache(maxsize = 100)\n",
    "\n",
    "def fibonacci(n):\n",
    "    \n",
    "    \"\"\"\n",
    "    Den funktionen räknas ut n:te fibonacci-talet.  \n",
    "    \"\"\"\n",
    "    if n<0:\n",
    "        print('Inkorrect input. Ge pozitiv eller helttal.')\n",
    "    elif n==0:\n",
    "        return 0\n",
    "    elif n==1:\n",
    "        return 1\n",
    "    else:\n",
    "        return fibonacci(n-1)+fibonacci(n-2)\n"
   ]
  },
  {
   "cell_type": "code",
   "execution_count": 4,
   "metadata": {},
   "outputs": [
    {
     "data": {
      "text/plain": [
       "55"
      ]
     },
     "execution_count": 4,
     "metadata": {},
     "output_type": "execute_result"
    }
   ],
   "source": [
    "fibonacci(10)"
   ]
  },
  {
   "cell_type": "markdown",
   "metadata": {},
   "source": [
    "## Uppgift 1\n",
    "\n",
    "Skapa kod som skriver ut första 100 Fibonacci-talen. Du kan kolla hur kraft python är med att arbeta stora talet."
   ]
  },
  {
   "cell_type": "code",
   "execution_count": 2,
   "metadata": {
    "scrolled": true
   },
   "outputs": [],
   "source": [
    "#for \n"
   ]
  },
  {
   "cell_type": "markdown",
   "metadata": {},
   "source": [
    "## Uppgift 2 : Plotting- Rita grafen\n",
    "\n",
    "Från den föregående frågan beräknade vi det Fibonacci talet. Vi visar kunskap om python för att rita (plot) de första 8 siffrorna. Axeln markeras därefter och läggas till en lämplig titel.\n",
    "\n",
    "Obs: När du ritar i Jupyter notebook, kom ihåg att importera nödvändiga bibliotek och använda plt.show () för att skapa den nödvändiga grafen.\n"
   ]
  },
  {
   "cell_type": "code",
   "execution_count": 18,
   "metadata": {},
   "outputs": [
    {
     "data": {
      "image/png": "[encoded data removed]",
      "text/plain": [
       "<Figure size 432x288 with 1 Axes>"
      ]
     },
     "metadata": {
      "needs_background": "light"
     },
     "output_type": "display_data"
    }
   ],
   "source": [
    "import matplotlib.pyplot as plt\n",
    "import math\n",
    "\n",
    "n=[] #Skapar lista \n",
    "value=[]\n",
    "for i in range (1,9):\n",
    "    n.append(i)  #Lägger till talet i i lista n\n",
    "    value.append(fibonacci(i)) #Lägger till  n:te fibonnaci-talet i lista value\n",
    "plt.title(\"Graf av fibonacci-talföljd\")\n",
    "plt.xlabel(\"n:te fibonacci talet\")\n",
    "plt.ylabel(\"Värde\")\n",
    "plt.plot(n,value)\n",
    "plt.show()"
   ]
  },
  {
   "cell_type": "markdown",
   "metadata": {},
   "source": [
    "## Uppgift 3\n",
    "Gyllene snittet brukar betecknas med φ (den grekiska bokstaven fi). Det [gyllene snittet](https://sv.wikipedia.org/wiki/Gyllene_snittet)s värde är\n",
    "$\\frac{1+\\sqrt{5}}{2}\\approx1,6180$.\n",
    "\n",
    "För Fibonaccis talfjöld gäller det att gränsvärdet\n",
    "$\n",
    "\\lim_{n \\to \\infty} \\frac{f_{n+1}}{f_n} \\\n",
    "$\n",
    "existerar.\n",
    "\n",
    "Undersöka att gränsvärdet ges av\n",
    "$\n",
    "\\lim_{n \\to \\infty} \\frac{f_{n+1}}{f_n} =\\phi\\\n",
    "$.\n",
    "\n",
    "Använd gärna förregående uppgiften."
   ]
  },
  {
   "cell_type": "code",
   "execution_count": 6,
   "metadata": {},
   "outputs": [
    {
     "data": {
      "image/png": "[encoded data removed]",
      "text/plain": [
       "<Figure size 432x288 with 1 Axes>"
      ]
     },
     "metadata": {
      "needs_background": "light"
     },
     "output_type": "display_data"
    }
   ],
   "source": [
    "import matplotlib.pyplot as plt\n",
    "import math\n",
    "\"\"\"Skapa kod här\n"
   ]
  },
  {
   "cell_type": "markdown",
   "metadata": {},
   "source": [
    "# Avsnitt 3, Fördjupning"
   ]
  },
  {
   "cell_type": "markdown",
   "metadata": {},
   "source": [
    "## Cassini-satsen \n",
    "Jean-Dominique Cassini franska astronomen bevisade att\n",
    "\\begin{align}\n",
    "F_{n+1}F_{n-1}-F_n^2=(-1)^2\n",
    "\\end{align}\n",
    "T.ex. $n=6$ ger $13\\cdot5-8^2=1$\n",
    "\n",
    "Man kan bevisa satsen med iduktionsbevis. Kolla gärna i boken."
   ]
  },
  {
   "cell_type": "markdown",
   "metadata": {},
   "source": [
    "\n",
    "Cassinis resultat är grunden för den geometriska paradoxen som var ett av Lewis Carrolls favorit kluring. \n",
    "\n",
    "Idén är följande. Ta ett schackbräde, skär det i fyra delar som visas och stapla sedan bitarna i en rektangel."
   ]
  },
  {
   "cell_type": "code",
   "execution_count": 27,
   "metadata": {},
   "outputs": [
    {
     "data": {
      "text/html": [
       "<img src=\"https://raw.githubusercontent.com/emodkovacs/Cassini/master/Cassini.png\"/>"
      ],
      "text/plain": [
       "<IPython.core.display.Image object>"
      ]
     },
     "execution_count": 27,
     "metadata": {},
     "output_type": "execute_result"
    }
   ],
   "source": [
    "from IPython.display import Image\n",
    "Image(url='https://raw.githubusercontent.com/emodkovacs/Cassini/master/Cassini.png')"
   ]
  },
  {
   "cell_type": "markdown",
   "metadata": {},
   "source": [
    "Beräkna arean. Det ursprungliga kvadraten består av $8 x 8=64$ små rutor, däremot består rektangeln  av $5 x 13=65$ små rutor. På liknande sätt kan en $F_n x F_n$ kvadrat delas upp i fyra delar. Motsvarande dimensioner för delarna är $F_{n+1}, F_n, F_{n-1}$ och $F_{n-2}$. Om n=6 då kommer att vara 13, 8, 5, 3 i fallet med schackbrädet. Resultatet är en $F_{n-1} x F_{n+1}$ rektangel och arean för detta, enligt Cassini-teoremet, är större eller mindre med en små rutan än ursprungliga kvadraten."
   ]
  },
  {
   "cell_type": "markdown",
   "metadata": {},
   "source": [
    "### Uppgift 1"
   ]
  },
  {
   "cell_type": "markdown",
   "metadata": {},
   "source": [
    "Utveckla programmet så användaren får mata in hur stora schackbrädet ska ha.  "
   ]
  },
  {
   "cell_type": "code",
   "execution_count": 10,
   "metadata": {},
   "outputs": [
    {
     "name": "stdout",
     "output_type": "stream",
     "text": [
      "Hur stor schackbrädet vill du ha? (n>2)6\n",
      "13   8   5   3\n"
     ]
    }
   ],
   "source": [
    "#n=int(input\n",
    "#Skapa kod här\n",
    "\n"
   ]
  },
  {
   "cell_type": "markdown",
   "metadata": {},
   "source": [
    "## Binominalkoefficient"
   ]
  },
  {
   "cell_type": "markdown",
   "metadata": {},
   "source": [
    "Du har sett Pascals triangel i boken på sidan 103. Den triangeln är bra för utveckling av binominalkoefficienterna."
   ]
  },
  {
   "cell_type": "code",
   "execution_count": 29,
   "metadata": {},
   "outputs": [
    {
     "data": {
      "text/html": [
       "<img src=\"https://raw.githubusercontent.com/emodkovacs/Cassini/master/Pascalstriangle.png\"/>"
      ],
      "text/plain": [
       "<IPython.core.display.Image object>"
      ]
     },
     "execution_count": 29,
     "metadata": {},
     "output_type": "execute_result"
    }
   ],
   "source": [
    "from IPython.display import Image\n",
    "Image(url='https://raw.githubusercontent.com/emodkovacs/Cassini/master/Pascalstriangle.png')"
   ]
  },
  {
   "cell_type": "markdown",
   "metadata": {},
   "source": [
    "Definition:\n",
    "\\begin{align}\n",
    "B(n,k)=\n",
    "    \\begin{cases}\n",
    "        1 & , k=0 \\\\\n",
    "        1 & , k=n \\\\\n",
    "        B(n-1,k)+B(n-1,k-1) & , 0<k<n\\\\\n",
    "    \\end{cases}\n",
    "\\end{align}"
   ]
  },
  {
   "cell_type": "markdown",
   "metadata": {},
   "source": [
    "### Uppgift 2\n",
    "Skapa funktion som ger tillbaka Binominalkoefficient. Glöm inte att kolla vilken värde k och n kan ha. "
   ]
  },
  {
   "cell_type": "code",
   "execution_count": 21,
   "metadata": {},
   "outputs": [],
   "source": [
    "import functools\n",
    "\n",
    "@functools.lru_cache(maxsize = 100)\n",
    "\n",
    "def B(n,k):\n",
    "    \n",
    "    \"\"\"\n",
    "    Den funktionen räknas ut binominalkoefficient.  \n",
    "    \"\"\"\n",
    "    # Skriv kodet här\n",
    "   \n"
   ]
  },
  {
   "cell_type": "markdown",
   "metadata": {},
   "source": [
    "### Uppgift 3\n",
    "\n",
    "Med hjäp av nästlade for loopar skriv ut Pascals triangel.\n",
    "Pythons print() funktion kan ha parameter '[end](https://www.geeksforgeeks.org/gfact-50-python-end-parameter-in-print/)' för att fortsätta utan ny rad."
   ]
  },
  {
   "cell_type": "code",
   "execution_count": 20,
   "metadata": {},
   "outputs": [
    {
     "name": "stdout",
     "output_type": "stream",
     "text": [
      "1  \n",
      "1  1  \n",
      "1  2  1  \n",
      "1  3  3  1  \n",
      "1  4  6  4  1  \n",
      "1  5  10  10  5  1  \n",
      "1  6  15  20  15  6  1  \n",
      "1  7  21  35  35  21  7  1  \n",
      "1  8  28  56  70  56  28  8  1  \n",
      "1  9  36  84  126  126  84  36  9  1  \n",
      "1  10  45  120  210  252  210  120  45  10  1  \n"
     ]
    }
   ],
   "source": [
    "# for"
   ]
  },
  {
   "cell_type": "code",
   "execution_count": null,
   "metadata": {},
   "outputs": [],
   "source": []
  }
 ],
 "metadata": {
  "kernelspec": {
   "display_name": "Python 3",
   "language": "python",
   "name": "python3"
  },
  "language_info": {
   "codemirror_mode": {
    "name": "ipython",
    "version": 3
   },
   "file_extension": ".py",
   "mimetype": "text/x-python",
   "name": "python",
   "nbconvert_exporter": "python",
   "pygments_lexer": "ipython3",
   "version": "3.6.10"
  }
 },
 "nbformat": 4,
 "nbformat_minor": 4
}
